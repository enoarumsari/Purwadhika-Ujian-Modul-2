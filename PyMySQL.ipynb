{
 "metadata": {
  "language_info": {
   "codemirror_mode": {
    "name": "ipython",
    "version": 3
   },
   "file_extension": ".py",
   "mimetype": "text/x-python",
   "name": "python",
   "nbconvert_exporter": "python",
   "pygments_lexer": "ipython3",
   "version": "3.7.6-final"
  },
  "orig_nbformat": 2,
  "kernelspec": {
   "name": "python3",
   "display_name": "Python 3.7.6 64-bit (conda)",
   "metadata": {
    "interpreter": {
     "hash": "e64d526f45f987aef0b262bf47ca3fec8cfb6911d5b766728c8408498b985f83"
    }
   }
  }
 },
 "nbformat": 4,
 "nbformat_minor": 2,
 "cells": [
  {
   "source": [
    "## Soal 1 - PyMySQL - Sakila Databas"
   ],
   "cell_type": "markdown",
   "metadata": {}
  },
  {
   "cell_type": "code",
   "execution_count": 1,
   "metadata": {},
   "outputs": [],
   "source": [
    "import pandas as pd\n",
    "import mysql.connector"
   ]
  },
  {
   "cell_type": "code",
   "execution_count": 2,
   "metadata": {},
   "outputs": [],
   "source": [
    "mydb = mysql.connector.connect(\n",
    "    host = 'localhost',\n",
    "    user = 'root',\n",
    "    passwd = '22081995',\n",
    "    database = 'sakila'\n",
    ")"
   ]
  },
  {
   "cell_type": "code",
   "execution_count": 3,
   "metadata": {},
   "outputs": [
    {
     "output_type": "execute_result",
     "data": {
      "text/plain": [
       "              Tables_in_sakila  Table_type\n",
       "0                        actor  BASE TABLE\n",
       "1                   actor_info        VIEW\n",
       "2                      address  BASE TABLE\n",
       "3                     category  BASE TABLE\n",
       "4                         city  BASE TABLE\n",
       "5                      country  BASE TABLE\n",
       "6                     customer  BASE TABLE\n",
       "7                customer_list        VIEW\n",
       "8                         film  BASE TABLE\n",
       "9                   film_actor  BASE TABLE\n",
       "10               film_category  BASE TABLE\n",
       "11                   film_list        VIEW\n",
       "12                   film_text  BASE TABLE\n",
       "13                   inventory  BASE TABLE\n",
       "14                    language  BASE TABLE\n",
       "15  nicer_but_slower_film_list        VIEW\n",
       "16                     payment  BASE TABLE\n",
       "17                      rental  BASE TABLE\n",
       "18      sales_by_film_category        VIEW\n",
       "19              sales_by_store        VIEW\n",
       "20                       staff  BASE TABLE\n",
       "21                  staff_list        VIEW\n",
       "22                       store  BASE TABLE"
      ],
      "text/html": "<div>\n<style scoped>\n    .dataframe tbody tr th:only-of-type {\n        vertical-align: middle;\n    }\n\n    .dataframe tbody tr th {\n        vertical-align: top;\n    }\n\n    .dataframe thead th {\n        text-align: right;\n    }\n</style>\n<table border=\"1\" class=\"dataframe\">\n  <thead>\n    <tr style=\"text-align: right;\">\n      <th></th>\n      <th>Tables_in_sakila</th>\n      <th>Table_type</th>\n    </tr>\n  </thead>\n  <tbody>\n    <tr>\n      <th>0</th>\n      <td>actor</td>\n      <td>BASE TABLE</td>\n    </tr>\n    <tr>\n      <th>1</th>\n      <td>actor_info</td>\n      <td>VIEW</td>\n    </tr>\n    <tr>\n      <th>2</th>\n      <td>address</td>\n      <td>BASE TABLE</td>\n    </tr>\n    <tr>\n      <th>3</th>\n      <td>category</td>\n      <td>BASE TABLE</td>\n    </tr>\n    <tr>\n      <th>4</th>\n      <td>city</td>\n      <td>BASE TABLE</td>\n    </tr>\n    <tr>\n      <th>5</th>\n      <td>country</td>\n      <td>BASE TABLE</td>\n    </tr>\n    <tr>\n      <th>6</th>\n      <td>customer</td>\n      <td>BASE TABLE</td>\n    </tr>\n    <tr>\n      <th>7</th>\n      <td>customer_list</td>\n      <td>VIEW</td>\n    </tr>\n    <tr>\n      <th>8</th>\n      <td>film</td>\n      <td>BASE TABLE</td>\n    </tr>\n    <tr>\n      <th>9</th>\n      <td>film_actor</td>\n      <td>BASE TABLE</td>\n    </tr>\n    <tr>\n      <th>10</th>\n      <td>film_category</td>\n      <td>BASE TABLE</td>\n    </tr>\n    <tr>\n      <th>11</th>\n      <td>film_list</td>\n      <td>VIEW</td>\n    </tr>\n    <tr>\n      <th>12</th>\n      <td>film_text</td>\n      <td>BASE TABLE</td>\n    </tr>\n    <tr>\n      <th>13</th>\n      <td>inventory</td>\n      <td>BASE TABLE</td>\n    </tr>\n    <tr>\n      <th>14</th>\n      <td>language</td>\n      <td>BASE TABLE</td>\n    </tr>\n    <tr>\n      <th>15</th>\n      <td>nicer_but_slower_film_list</td>\n      <td>VIEW</td>\n    </tr>\n    <tr>\n      <th>16</th>\n      <td>payment</td>\n      <td>BASE TABLE</td>\n    </tr>\n    <tr>\n      <th>17</th>\n      <td>rental</td>\n      <td>BASE TABLE</td>\n    </tr>\n    <tr>\n      <th>18</th>\n      <td>sales_by_film_category</td>\n      <td>VIEW</td>\n    </tr>\n    <tr>\n      <th>19</th>\n      <td>sales_by_store</td>\n      <td>VIEW</td>\n    </tr>\n    <tr>\n      <th>20</th>\n      <td>staff</td>\n      <td>BASE TABLE</td>\n    </tr>\n    <tr>\n      <th>21</th>\n      <td>staff_list</td>\n      <td>VIEW</td>\n    </tr>\n    <tr>\n      <th>22</th>\n      <td>store</td>\n      <td>BASE TABLE</td>\n    </tr>\n  </tbody>\n</table>\n</div>"
     },
     "metadata": {},
     "execution_count": 3
    }
   ],
   "source": [
    "mycursor = mydb.cursor()\n",
    "mycursor.execute('''\n",
    "show full tables;\n",
    "''')\n",
    "myresult = mycursor.fetchall()\n",
    "#myresult\n",
    "columns = mycursor.column_names\n",
    "tables = pd.DataFrame(myresult, columns=columns)\n",
    "tables"
   ]
  },
  {
   "source": [
    "### 1. Tampilkan daftar 10 film komedi dengan durasi tersingkat. Urutkan data berdasarkan film dengan urasi terpendek. Kolom yang diwajibkan tampil adalah title, category dan length. "
   ],
   "cell_type": "markdown",
   "metadata": {}
  },
  {
   "cell_type": "code",
   "execution_count": 10,
   "metadata": {},
   "outputs": [
    {
     "output_type": "execute_result",
     "data": {
      "text/plain": [
       "              title category  length\n",
       "0   DOWNHILL ENOUGH   Comedy      47\n",
       "1  PARADISE SABRINA   Comedy      48\n",
       "2    HEAVEN FREEDOM   Comedy      48\n",
       "3  HURRICANE AFFAIR   Comedy      49\n",
       "4        LION UNCUT   Comedy      50\n",
       "5         ZORRO ARK   Comedy      50\n",
       "6       CLOSER BANG   Comedy      58\n",
       "7   AIRPLANE SIERRA   Comedy      62\n",
       "8   LONELY ELEPHANT   Comedy      67\n",
       "9      DOOM DANCING   Comedy      68"
      ],
      "text/html": "<div>\n<style scoped>\n    .dataframe tbody tr th:only-of-type {\n        vertical-align: middle;\n    }\n\n    .dataframe tbody tr th {\n        vertical-align: top;\n    }\n\n    .dataframe thead th {\n        text-align: right;\n    }\n</style>\n<table border=\"1\" class=\"dataframe\">\n  <thead>\n    <tr style=\"text-align: right;\">\n      <th></th>\n      <th>title</th>\n      <th>category</th>\n      <th>length</th>\n    </tr>\n  </thead>\n  <tbody>\n    <tr>\n      <th>0</th>\n      <td>DOWNHILL ENOUGH</td>\n      <td>Comedy</td>\n      <td>47</td>\n    </tr>\n    <tr>\n      <th>1</th>\n      <td>PARADISE SABRINA</td>\n      <td>Comedy</td>\n      <td>48</td>\n    </tr>\n    <tr>\n      <th>2</th>\n      <td>HEAVEN FREEDOM</td>\n      <td>Comedy</td>\n      <td>48</td>\n    </tr>\n    <tr>\n      <th>3</th>\n      <td>HURRICANE AFFAIR</td>\n      <td>Comedy</td>\n      <td>49</td>\n    </tr>\n    <tr>\n      <th>4</th>\n      <td>LION UNCUT</td>\n      <td>Comedy</td>\n      <td>50</td>\n    </tr>\n    <tr>\n      <th>5</th>\n      <td>ZORRO ARK</td>\n      <td>Comedy</td>\n      <td>50</td>\n    </tr>\n    <tr>\n      <th>6</th>\n      <td>CLOSER BANG</td>\n      <td>Comedy</td>\n      <td>58</td>\n    </tr>\n    <tr>\n      <th>7</th>\n      <td>AIRPLANE SIERRA</td>\n      <td>Comedy</td>\n      <td>62</td>\n    </tr>\n    <tr>\n      <th>8</th>\n      <td>LONELY ELEPHANT</td>\n      <td>Comedy</td>\n      <td>67</td>\n    </tr>\n    <tr>\n      <th>9</th>\n      <td>DOOM DANCING</td>\n      <td>Comedy</td>\n      <td>68</td>\n    </tr>\n  </tbody>\n</table>\n</div>"
     },
     "metadata": {},
     "execution_count": 10
    }
   ],
   "source": [
    "mycursor = mydb.cursor()\n",
    "mycursor.execute('''\n",
    "select film.title as title, category.name as category, film.length as length from category, film, film_category\n",
    "where category.name = 'Comedy' and category.category_id = film_category.category_id and film_category.film_id = film.film_id\n",
    "order by length limit 10;\n",
    "''')\n",
    "myresult = mycursor.fetchall()\n",
    "#myresult\n",
    "columns = mycursor.column_names\n",
    "tables = pd.DataFrame(myresult, columns=columns)\n",
    "tables\n",
    "\n",
    "#LINE 1   --> Mengambil data dari table FILM kolom TITLE, table CATEGORY kolom NAME, dan tabel CATEGORY kolom LENGTH.\n",
    "#LINE 2-3 --> Mencari NAME dari tabel CATEGORY yang memiliki nilai 'COMEDY' dan mencocokkan CATEGORY_ID dari tabel CATEGORY dengan CATEGORY_ID dari tabel FILM_CATEGORY dan terakhir mencocokkan FILM_ID pada FILM_CATEGORY dengan FILM_ID pada tabel FILM\n",
    "#LINE 4   --> Mengurutkan nilai berdasarkan kolom LENGTH dan di beri limit 10 untuk menampilkan 10 buah baris"
   ]
  },
  {
   "cell_type": "code",
   "execution_count": null,
   "metadata": {},
   "outputs": [],
   "source": []
  },
  {
   "cell_type": "code",
   "execution_count": 11,
   "metadata": {},
   "outputs": [
    {
     "output_type": "execute_result",
     "data": {
      "text/plain": [
       "   category_id       name         last_update\n",
       "0            1     Action 2006-02-15 04:46:27\n",
       "1            2  Animation 2006-02-15 04:46:27\n",
       "2            3   Children 2006-02-15 04:46:27"
      ],
      "text/html": "<div>\n<style scoped>\n    .dataframe tbody tr th:only-of-type {\n        vertical-align: middle;\n    }\n\n    .dataframe tbody tr th {\n        vertical-align: top;\n    }\n\n    .dataframe thead th {\n        text-align: right;\n    }\n</style>\n<table border=\"1\" class=\"dataframe\">\n  <thead>\n    <tr style=\"text-align: right;\">\n      <th></th>\n      <th>category_id</th>\n      <th>name</th>\n      <th>last_update</th>\n    </tr>\n  </thead>\n  <tbody>\n    <tr>\n      <th>0</th>\n      <td>1</td>\n      <td>Action</td>\n      <td>2006-02-15 04:46:27</td>\n    </tr>\n    <tr>\n      <th>1</th>\n      <td>2</td>\n      <td>Animation</td>\n      <td>2006-02-15 04:46:27</td>\n    </tr>\n    <tr>\n      <th>2</th>\n      <td>3</td>\n      <td>Children</td>\n      <td>2006-02-15 04:46:27</td>\n    </tr>\n  </tbody>\n</table>\n</div>"
     },
     "metadata": {},
     "execution_count": 11
    }
   ],
   "source": [
    "mycursor = mydb.cursor()\n",
    "mycursor.execute('''\n",
    "select * from category limit 3;\n",
    "''')\n",
    "myresult = mycursor.fetchall()\n",
    "#myresult\n",
    "columns = mycursor.column_names\n",
    "tables = pd.DataFrame(myresult, columns=columns)\n",
    "tables"
   ]
  },
  {
   "cell_type": "code",
   "execution_count": 12,
   "metadata": {},
   "outputs": [
    {
     "output_type": "execute_result",
     "data": {
      "text/plain": [
       "   film_id             title  \\\n",
       "0        1  ACADEMY DINOSAUR   \n",
       "1        2    ACE GOLDFINGER   \n",
       "2        3  ADAPTATION HOLES   \n",
       "\n",
       "                                         description  release_year  \\\n",
       "0  A Epic Drama of a Feminist And a Mad Scientist...          2006   \n",
       "1  A Astounding Epistle of a Database Administrat...          2006   \n",
       "2  A Astounding Reflection of a Lumberjack And a ...          2006   \n",
       "\n",
       "   language_id original_language_id  rental_duration rental_rate  length  \\\n",
       "0            1                 None                6        0.99      86   \n",
       "1            1                 None                3        4.99      48   \n",
       "2            1                 None                7        2.99      50   \n",
       "\n",
       "  replacement_cost rating                     special_features  \\\n",
       "0            20.99     PG  {Deleted Scenes, Behind the Scenes}   \n",
       "1            12.99      G           {Deleted Scenes, Trailers}   \n",
       "2            18.99  NC-17           {Deleted Scenes, Trailers}   \n",
       "\n",
       "          last_update  \n",
       "0 2006-02-15 05:03:42  \n",
       "1 2006-02-15 05:03:42  \n",
       "2 2006-02-15 05:03:42  "
      ],
      "text/html": "<div>\n<style scoped>\n    .dataframe tbody tr th:only-of-type {\n        vertical-align: middle;\n    }\n\n    .dataframe tbody tr th {\n        vertical-align: top;\n    }\n\n    .dataframe thead th {\n        text-align: right;\n    }\n</style>\n<table border=\"1\" class=\"dataframe\">\n  <thead>\n    <tr style=\"text-align: right;\">\n      <th></th>\n      <th>film_id</th>\n      <th>title</th>\n      <th>description</th>\n      <th>release_year</th>\n      <th>language_id</th>\n      <th>original_language_id</th>\n      <th>rental_duration</th>\n      <th>rental_rate</th>\n      <th>length</th>\n      <th>replacement_cost</th>\n      <th>rating</th>\n      <th>special_features</th>\n      <th>last_update</th>\n    </tr>\n  </thead>\n  <tbody>\n    <tr>\n      <th>0</th>\n      <td>1</td>\n      <td>ACADEMY DINOSAUR</td>\n      <td>A Epic Drama of a Feminist And a Mad Scientist...</td>\n      <td>2006</td>\n      <td>1</td>\n      <td>None</td>\n      <td>6</td>\n      <td>0.99</td>\n      <td>86</td>\n      <td>20.99</td>\n      <td>PG</td>\n      <td>{Deleted Scenes, Behind the Scenes}</td>\n      <td>2006-02-15 05:03:42</td>\n    </tr>\n    <tr>\n      <th>1</th>\n      <td>2</td>\n      <td>ACE GOLDFINGER</td>\n      <td>A Astounding Epistle of a Database Administrat...</td>\n      <td>2006</td>\n      <td>1</td>\n      <td>None</td>\n      <td>3</td>\n      <td>4.99</td>\n      <td>48</td>\n      <td>12.99</td>\n      <td>G</td>\n      <td>{Deleted Scenes, Trailers}</td>\n      <td>2006-02-15 05:03:42</td>\n    </tr>\n    <tr>\n      <th>2</th>\n      <td>3</td>\n      <td>ADAPTATION HOLES</td>\n      <td>A Astounding Reflection of a Lumberjack And a ...</td>\n      <td>2006</td>\n      <td>1</td>\n      <td>None</td>\n      <td>7</td>\n      <td>2.99</td>\n      <td>50</td>\n      <td>18.99</td>\n      <td>NC-17</td>\n      <td>{Deleted Scenes, Trailers}</td>\n      <td>2006-02-15 05:03:42</td>\n    </tr>\n  </tbody>\n</table>\n</div>"
     },
     "metadata": {},
     "execution_count": 12
    }
   ],
   "source": [
    "mycursor = mydb.cursor()\n",
    "mycursor.execute('''\n",
    "select * from film limit 3;\n",
    "''')\n",
    "myresult = mycursor.fetchall()\n",
    "#myresult\n",
    "columns = mycursor.column_names\n",
    "tables = pd.DataFrame(myresult, columns=columns)\n",
    "tables"
   ]
  },
  {
   "cell_type": "code",
   "execution_count": 13,
   "metadata": {},
   "outputs": [
    {
     "output_type": "execute_result",
     "data": {
      "text/plain": [
       "   film_id  category_id         last_update\n",
       "0        1            6 2006-02-15 05:07:09\n",
       "1        2           11 2006-02-15 05:07:09\n",
       "2        3            6 2006-02-15 05:07:09"
      ],
      "text/html": "<div>\n<style scoped>\n    .dataframe tbody tr th:only-of-type {\n        vertical-align: middle;\n    }\n\n    .dataframe tbody tr th {\n        vertical-align: top;\n    }\n\n    .dataframe thead th {\n        text-align: right;\n    }\n</style>\n<table border=\"1\" class=\"dataframe\">\n  <thead>\n    <tr style=\"text-align: right;\">\n      <th></th>\n      <th>film_id</th>\n      <th>category_id</th>\n      <th>last_update</th>\n    </tr>\n  </thead>\n  <tbody>\n    <tr>\n      <th>0</th>\n      <td>1</td>\n      <td>6</td>\n      <td>2006-02-15 05:07:09</td>\n    </tr>\n    <tr>\n      <th>1</th>\n      <td>2</td>\n      <td>11</td>\n      <td>2006-02-15 05:07:09</td>\n    </tr>\n    <tr>\n      <th>2</th>\n      <td>3</td>\n      <td>6</td>\n      <td>2006-02-15 05:07:09</td>\n    </tr>\n  </tbody>\n</table>\n</div>"
     },
     "metadata": {},
     "execution_count": 13
    }
   ],
   "source": [
    "mycursor = mydb.cursor()\n",
    "mycursor.execute('''\n",
    "select * from film_category limit 3;\n",
    "''')\n",
    "myresult = mycursor.fetchall()\n",
    "#myresult\n",
    "columns = mycursor.column_names\n",
    "tables = pd.DataFrame(myresult, columns=columns)\n",
    "tables"
   ]
  },
  {
   "cell_type": "code",
   "execution_count": 20,
   "metadata": {},
   "outputs": [
    {
     "output_type": "execute_result",
     "data": {
      "text/plain": [
       "   rental_id         rental_date  inventory_id  customer_id  \\\n",
       "0          1 2005-05-24 22:53:30           367          130   \n",
       "1          2 2005-05-24 22:54:33          1525          459   \n",
       "2          3 2005-05-24 23:03:39          1711          408   \n",
       "\n",
       "          return_date  staff_id         last_update  \n",
       "0 2005-05-26 22:04:30         1 2006-02-15 21:30:53  \n",
       "1 2005-05-28 19:40:33         1 2006-02-15 21:30:53  \n",
       "2 2005-06-01 22:12:39         1 2006-02-15 21:30:53  "
      ],
      "text/html": "<div>\n<style scoped>\n    .dataframe tbody tr th:only-of-type {\n        vertical-align: middle;\n    }\n\n    .dataframe tbody tr th {\n        vertical-align: top;\n    }\n\n    .dataframe thead th {\n        text-align: right;\n    }\n</style>\n<table border=\"1\" class=\"dataframe\">\n  <thead>\n    <tr style=\"text-align: right;\">\n      <th></th>\n      <th>rental_id</th>\n      <th>rental_date</th>\n      <th>inventory_id</th>\n      <th>customer_id</th>\n      <th>return_date</th>\n      <th>staff_id</th>\n      <th>last_update</th>\n    </tr>\n  </thead>\n  <tbody>\n    <tr>\n      <th>0</th>\n      <td>1</td>\n      <td>2005-05-24 22:53:30</td>\n      <td>367</td>\n      <td>130</td>\n      <td>2005-05-26 22:04:30</td>\n      <td>1</td>\n      <td>2006-02-15 21:30:53</td>\n    </tr>\n    <tr>\n      <th>1</th>\n      <td>2</td>\n      <td>2005-05-24 22:54:33</td>\n      <td>1525</td>\n      <td>459</td>\n      <td>2005-05-28 19:40:33</td>\n      <td>1</td>\n      <td>2006-02-15 21:30:53</td>\n    </tr>\n    <tr>\n      <th>2</th>\n      <td>3</td>\n      <td>2005-05-24 23:03:39</td>\n      <td>1711</td>\n      <td>408</td>\n      <td>2005-06-01 22:12:39</td>\n      <td>1</td>\n      <td>2006-02-15 21:30:53</td>\n    </tr>\n  </tbody>\n</table>\n</div>"
     },
     "metadata": {},
     "execution_count": 20
    }
   ],
   "source": [
    "mycursor = mydb.cursor()\n",
    "mycursor.execute('''\n",
    "select * from rental limit 3;\n",
    "''')\n",
    "myresult = mycursor.fetchall()\n",
    "#myresult\n",
    "columns = mycursor.column_names\n",
    "tables = pd.DataFrame(myresult, columns=columns)\n",
    "tables"
   ]
  },
  {
   "cell_type": "code",
   "execution_count": 21,
   "metadata": {},
   "outputs": [
    {
     "output_type": "execute_result",
     "data": {
      "text/plain": [
       "   payment_id  customer_id  staff_id  rental_id amount        payment_date  \\\n",
       "0           1            1         1         76   2.99 2005-05-25 11:30:37   \n",
       "1           2            1         1        573   0.99 2005-05-28 10:35:23   \n",
       "2           3            1         1       1185   5.99 2005-06-15 00:54:12   \n",
       "\n",
       "          last_update  \n",
       "0 2006-02-15 22:12:30  \n",
       "1 2006-02-15 22:12:30  \n",
       "2 2006-02-15 22:12:30  "
      ],
      "text/html": "<div>\n<style scoped>\n    .dataframe tbody tr th:only-of-type {\n        vertical-align: middle;\n    }\n\n    .dataframe tbody tr th {\n        vertical-align: top;\n    }\n\n    .dataframe thead th {\n        text-align: right;\n    }\n</style>\n<table border=\"1\" class=\"dataframe\">\n  <thead>\n    <tr style=\"text-align: right;\">\n      <th></th>\n      <th>payment_id</th>\n      <th>customer_id</th>\n      <th>staff_id</th>\n      <th>rental_id</th>\n      <th>amount</th>\n      <th>payment_date</th>\n      <th>last_update</th>\n    </tr>\n  </thead>\n  <tbody>\n    <tr>\n      <th>0</th>\n      <td>1</td>\n      <td>1</td>\n      <td>1</td>\n      <td>76</td>\n      <td>2.99</td>\n      <td>2005-05-25 11:30:37</td>\n      <td>2006-02-15 22:12:30</td>\n    </tr>\n    <tr>\n      <th>1</th>\n      <td>2</td>\n      <td>1</td>\n      <td>1</td>\n      <td>573</td>\n      <td>0.99</td>\n      <td>2005-05-28 10:35:23</td>\n      <td>2006-02-15 22:12:30</td>\n    </tr>\n    <tr>\n      <th>2</th>\n      <td>3</td>\n      <td>1</td>\n      <td>1</td>\n      <td>1185</td>\n      <td>5.99</td>\n      <td>2005-06-15 00:54:12</td>\n      <td>2006-02-15 22:12:30</td>\n    </tr>\n  </tbody>\n</table>\n</div>"
     },
     "metadata": {},
     "execution_count": 21
    }
   ],
   "source": [
    "mycursor = mydb.cursor()\n",
    "mycursor.execute('''\n",
    "select * from payment limit 3;\n",
    "''')\n",
    "myresult = mycursor.fetchall()\n",
    "#myresult\n",
    "columns = mycursor.column_names\n",
    "tables = pd.DataFrame(myresult, columns=columns)\n",
    "tables"
   ]
  },
  {
   "cell_type": "code",
   "execution_count": 22,
   "metadata": {},
   "outputs": [
    {
     "output_type": "execute_result",
     "data": {
      "text/plain": [
       "   inventory_id  film_id  store_id         last_update\n",
       "0             1        1         1 2006-02-15 05:09:17\n",
       "1             2        1         1 2006-02-15 05:09:17\n",
       "2             3        1         1 2006-02-15 05:09:17"
      ],
      "text/html": "<div>\n<style scoped>\n    .dataframe tbody tr th:only-of-type {\n        vertical-align: middle;\n    }\n\n    .dataframe tbody tr th {\n        vertical-align: top;\n    }\n\n    .dataframe thead th {\n        text-align: right;\n    }\n</style>\n<table border=\"1\" class=\"dataframe\">\n  <thead>\n    <tr style=\"text-align: right;\">\n      <th></th>\n      <th>inventory_id</th>\n      <th>film_id</th>\n      <th>store_id</th>\n      <th>last_update</th>\n    </tr>\n  </thead>\n  <tbody>\n    <tr>\n      <th>0</th>\n      <td>1</td>\n      <td>1</td>\n      <td>1</td>\n      <td>2006-02-15 05:09:17</td>\n    </tr>\n    <tr>\n      <th>1</th>\n      <td>2</td>\n      <td>1</td>\n      <td>1</td>\n      <td>2006-02-15 05:09:17</td>\n    </tr>\n    <tr>\n      <th>2</th>\n      <td>3</td>\n      <td>1</td>\n      <td>1</td>\n      <td>2006-02-15 05:09:17</td>\n    </tr>\n  </tbody>\n</table>\n</div>"
     },
     "metadata": {},
     "execution_count": 22
    }
   ],
   "source": [
    "mycursor = mydb.cursor()\n",
    "mycursor.execute('''\n",
    "select * from inventory limit 3;\n",
    "''')\n",
    "myresult = mycursor.fetchall()\n",
    "#myresult\n",
    "columns = mycursor.column_names\n",
    "tables = pd.DataFrame(myresult, columns=columns)\n",
    "tables"
   ]
  },
  {
   "source": [
    "### 2. Tampilkan daftar lengkap kategori film beserta jumlah film tiap kategori & rata-rata harga sewa DVD film tiap kategori. Urutkan data dari kategori dengan jumlah film terbanyak. Kolom yang diwajibkan ada minimal adalah kategori, jumlah film dan rata-rata harga sewa."
   ],
   "cell_type": "markdown",
   "metadata": {}
  },
  {
   "cell_type": "code",
   "execution_count": 43,
   "metadata": {},
   "outputs": [
    {
     "output_type": "execute_result",
     "data": {
      "text/plain": [
       "       kategori  jumlahMovie rataHargaSewa\n",
       "0        Action         1112      3.935117\n",
       "1     Animation         1166      3.993396\n",
       "2      Children          945      3.868307\n",
       "3      Classics          939      3.876028\n",
       "4        Comedy          941      4.658427\n",
       "5   Documentary         1050      4.016686\n",
       "6         Drama         1060      4.327726\n",
       "7        Family         1096      3.855903\n",
       "8       Foreign         1033      4.134240\n",
       "9         Games          969      4.418297\n",
       "10       Horror          846      4.400165\n",
       "11        Music          830      4.117735\n",
       "12          New          940      4.629383\n",
       "13       Sci-Fi         1101      4.320599\n",
       "14       Sports         1179      4.507388\n",
       "15       Travel          837      4.240908"
      ],
      "text/html": "<div>\n<style scoped>\n    .dataframe tbody tr th:only-of-type {\n        vertical-align: middle;\n    }\n\n    .dataframe tbody tr th {\n        vertical-align: top;\n    }\n\n    .dataframe thead th {\n        text-align: right;\n    }\n</style>\n<table border=\"1\" class=\"dataframe\">\n  <thead>\n    <tr style=\"text-align: right;\">\n      <th></th>\n      <th>kategori</th>\n      <th>jumlahMovie</th>\n      <th>rataHargaSewa</th>\n    </tr>\n  </thead>\n  <tbody>\n    <tr>\n      <th>0</th>\n      <td>Action</td>\n      <td>1112</td>\n      <td>3.935117</td>\n    </tr>\n    <tr>\n      <th>1</th>\n      <td>Animation</td>\n      <td>1166</td>\n      <td>3.993396</td>\n    </tr>\n    <tr>\n      <th>2</th>\n      <td>Children</td>\n      <td>945</td>\n      <td>3.868307</td>\n    </tr>\n    <tr>\n      <th>3</th>\n      <td>Classics</td>\n      <td>939</td>\n      <td>3.876028</td>\n    </tr>\n    <tr>\n      <th>4</th>\n      <td>Comedy</td>\n      <td>941</td>\n      <td>4.658427</td>\n    </tr>\n    <tr>\n      <th>5</th>\n      <td>Documentary</td>\n      <td>1050</td>\n      <td>4.016686</td>\n    </tr>\n    <tr>\n      <th>6</th>\n      <td>Drama</td>\n      <td>1060</td>\n      <td>4.327726</td>\n    </tr>\n    <tr>\n      <th>7</th>\n      <td>Family</td>\n      <td>1096</td>\n      <td>3.855903</td>\n    </tr>\n    <tr>\n      <th>8</th>\n      <td>Foreign</td>\n      <td>1033</td>\n      <td>4.134240</td>\n    </tr>\n    <tr>\n      <th>9</th>\n      <td>Games</td>\n      <td>969</td>\n      <td>4.418297</td>\n    </tr>\n    <tr>\n      <th>10</th>\n      <td>Horror</td>\n      <td>846</td>\n      <td>4.400165</td>\n    </tr>\n    <tr>\n      <th>11</th>\n      <td>Music</td>\n      <td>830</td>\n      <td>4.117735</td>\n    </tr>\n    <tr>\n      <th>12</th>\n      <td>New</td>\n      <td>940</td>\n      <td>4.629383</td>\n    </tr>\n    <tr>\n      <th>13</th>\n      <td>Sci-Fi</td>\n      <td>1101</td>\n      <td>4.320599</td>\n    </tr>\n    <tr>\n      <th>14</th>\n      <td>Sports</td>\n      <td>1179</td>\n      <td>4.507388</td>\n    </tr>\n    <tr>\n      <th>15</th>\n      <td>Travel</td>\n      <td>837</td>\n      <td>4.240908</td>\n    </tr>\n  </tbody>\n</table>\n</div>"
     },
     "metadata": {},
     "execution_count": 43
    }
   ],
   "source": [
    "mycursor = mydb.cursor()\n",
    "mycursor.execute('''\n",
    "select category.name as kategori, count(film.title) as jumlahMovie, avg(payment.amount) as rataHargaSewa\n",
    "from category, film, film_category, payment, rental, inventory\n",
    "where category.category_id = film_category.category_id and film_category.film_id = film.film_id and payment.rental_id = rental.rental_id and rental.inventory_id = inventory.inventory_id and inventory.film_id = film_category.film_id\n",
    "group by kategori;\n",
    "''')\n",
    "myresult = mycursor.fetchall()\n",
    "#myresult\n",
    "columns = mycursor.column_names\n",
    "tables = pd.DataFrame(myresult, columns=columns)\n",
    "tables"
   ]
  },
  {
   "cell_type": "code",
   "execution_count": 37,
   "metadata": {},
   "outputs": [
    {
     "output_type": "execute_result",
     "data": {
      "text/plain": [
       "   film_id             title  \\\n",
       "0        1  ACADEMY DINOSAUR   \n",
       "1        2    ACE GOLDFINGER   \n",
       "2        3  ADAPTATION HOLES   \n",
       "\n",
       "                                         description  release_year  \\\n",
       "0  A Epic Drama of a Feminist And a Mad Scientist...          2006   \n",
       "1  A Astounding Epistle of a Database Administrat...          2006   \n",
       "2  A Astounding Reflection of a Lumberjack And a ...          2006   \n",
       "\n",
       "   language_id original_language_id  rental_duration rental_rate  length  \\\n",
       "0            1                 None                6        0.99      86   \n",
       "1            1                 None                3        4.99      48   \n",
       "2            1                 None                7        2.99      50   \n",
       "\n",
       "  replacement_cost rating                     special_features  \\\n",
       "0            20.99     PG  {Deleted Scenes, Behind the Scenes}   \n",
       "1            12.99      G           {Deleted Scenes, Trailers}   \n",
       "2            18.99  NC-17           {Deleted Scenes, Trailers}   \n",
       "\n",
       "          last_update  \n",
       "0 2006-02-15 05:03:42  \n",
       "1 2006-02-15 05:03:42  \n",
       "2 2006-02-15 05:03:42  "
      ],
      "text/html": "<div>\n<style scoped>\n    .dataframe tbody tr th:only-of-type {\n        vertical-align: middle;\n    }\n\n    .dataframe tbody tr th {\n        vertical-align: top;\n    }\n\n    .dataframe thead th {\n        text-align: right;\n    }\n</style>\n<table border=\"1\" class=\"dataframe\">\n  <thead>\n    <tr style=\"text-align: right;\">\n      <th></th>\n      <th>film_id</th>\n      <th>title</th>\n      <th>description</th>\n      <th>release_year</th>\n      <th>language_id</th>\n      <th>original_language_id</th>\n      <th>rental_duration</th>\n      <th>rental_rate</th>\n      <th>length</th>\n      <th>replacement_cost</th>\n      <th>rating</th>\n      <th>special_features</th>\n      <th>last_update</th>\n    </tr>\n  </thead>\n  <tbody>\n    <tr>\n      <th>0</th>\n      <td>1</td>\n      <td>ACADEMY DINOSAUR</td>\n      <td>A Epic Drama of a Feminist And a Mad Scientist...</td>\n      <td>2006</td>\n      <td>1</td>\n      <td>None</td>\n      <td>6</td>\n      <td>0.99</td>\n      <td>86</td>\n      <td>20.99</td>\n      <td>PG</td>\n      <td>{Deleted Scenes, Behind the Scenes}</td>\n      <td>2006-02-15 05:03:42</td>\n    </tr>\n    <tr>\n      <th>1</th>\n      <td>2</td>\n      <td>ACE GOLDFINGER</td>\n      <td>A Astounding Epistle of a Database Administrat...</td>\n      <td>2006</td>\n      <td>1</td>\n      <td>None</td>\n      <td>3</td>\n      <td>4.99</td>\n      <td>48</td>\n      <td>12.99</td>\n      <td>G</td>\n      <td>{Deleted Scenes, Trailers}</td>\n      <td>2006-02-15 05:03:42</td>\n    </tr>\n    <tr>\n      <th>2</th>\n      <td>3</td>\n      <td>ADAPTATION HOLES</td>\n      <td>A Astounding Reflection of a Lumberjack And a ...</td>\n      <td>2006</td>\n      <td>1</td>\n      <td>None</td>\n      <td>7</td>\n      <td>2.99</td>\n      <td>50</td>\n      <td>18.99</td>\n      <td>NC-17</td>\n      <td>{Deleted Scenes, Trailers}</td>\n      <td>2006-02-15 05:03:42</td>\n    </tr>\n  </tbody>\n</table>\n</div>"
     },
     "metadata": {},
     "execution_count": 37
    }
   ],
   "source": [
    "mycursor = mydb.cursor()\n",
    "mycursor.execute('''\n",
    "select * from film limit 3;\n",
    "''')\n",
    "myresult = mycursor.fetchall()\n",
    "#myresult\n",
    "columns = mycursor.column_names\n",
    "tables = pd.DataFrame(myresult, columns=columns)\n",
    "tables"
   ]
  },
  {
   "cell_type": "code",
   "execution_count": 34,
   "metadata": {},
   "outputs": [
    {
     "output_type": "execute_result",
     "data": {
      "text/plain": [
       "   actor_id first_name last_name         last_update\n",
       "0         1   PENELOPE   GUINESS 2006-02-15 04:34:33\n",
       "1         2       NICK  WAHLBERG 2006-02-15 04:34:33\n",
       "2         3         ED     CHASE 2006-02-15 04:34:33"
      ],
      "text/html": "<div>\n<style scoped>\n    .dataframe tbody tr th:only-of-type {\n        vertical-align: middle;\n    }\n\n    .dataframe tbody tr th {\n        vertical-align: top;\n    }\n\n    .dataframe thead th {\n        text-align: right;\n    }\n</style>\n<table border=\"1\" class=\"dataframe\">\n  <thead>\n    <tr style=\"text-align: right;\">\n      <th></th>\n      <th>actor_id</th>\n      <th>first_name</th>\n      <th>last_name</th>\n      <th>last_update</th>\n    </tr>\n  </thead>\n  <tbody>\n    <tr>\n      <th>0</th>\n      <td>1</td>\n      <td>PENELOPE</td>\n      <td>GUINESS</td>\n      <td>2006-02-15 04:34:33</td>\n    </tr>\n    <tr>\n      <th>1</th>\n      <td>2</td>\n      <td>NICK</td>\n      <td>WAHLBERG</td>\n      <td>2006-02-15 04:34:33</td>\n    </tr>\n    <tr>\n      <th>2</th>\n      <td>3</td>\n      <td>ED</td>\n      <td>CHASE</td>\n      <td>2006-02-15 04:34:33</td>\n    </tr>\n  </tbody>\n</table>\n</div>"
     },
     "metadata": {},
     "execution_count": 34
    }
   ],
   "source": [
    "mycursor = mydb.cursor()\n",
    "mycursor.execute('''\n",
    "select * from actor limit 3;\n",
    "''')\n",
    "myresult = mycursor.fetchall()\n",
    "#myresult\n",
    "columns = mycursor.column_names\n",
    "tables = pd.DataFrame(myresult, columns=columns)\n",
    "tables"
   ]
  },
  {
   "cell_type": "code",
   "execution_count": 36,
   "metadata": {},
   "outputs": [
    {
     "output_type": "execute_result",
     "data": {
      "text/plain": [
       "   actor_id  film_id         last_update\n",
       "0         1        1 2006-02-15 05:05:03\n",
       "1         1       23 2006-02-15 05:05:03\n",
       "2         1       25 2006-02-15 05:05:03"
      ],
      "text/html": "<div>\n<style scoped>\n    .dataframe tbody tr th:only-of-type {\n        vertical-align: middle;\n    }\n\n    .dataframe tbody tr th {\n        vertical-align: top;\n    }\n\n    .dataframe thead th {\n        text-align: right;\n    }\n</style>\n<table border=\"1\" class=\"dataframe\">\n  <thead>\n    <tr style=\"text-align: right;\">\n      <th></th>\n      <th>actor_id</th>\n      <th>film_id</th>\n      <th>last_update</th>\n    </tr>\n  </thead>\n  <tbody>\n    <tr>\n      <th>0</th>\n      <td>1</td>\n      <td>1</td>\n      <td>2006-02-15 05:05:03</td>\n    </tr>\n    <tr>\n      <th>1</th>\n      <td>1</td>\n      <td>23</td>\n      <td>2006-02-15 05:05:03</td>\n    </tr>\n    <tr>\n      <th>2</th>\n      <td>1</td>\n      <td>25</td>\n      <td>2006-02-15 05:05:03</td>\n    </tr>\n  </tbody>\n</table>\n</div>"
     },
     "metadata": {},
     "execution_count": 36
    }
   ],
   "source": [
    "mycursor = mydb.cursor()\n",
    "mycursor.execute('''\n",
    "select * from film_actor limit 3;\n",
    "''')\n",
    "myresult = mycursor.fetchall()\n",
    "#myresult\n",
    "columns = mycursor.column_names\n",
    "tables = pd.DataFrame(myresult, columns=columns)\n",
    "tables"
   ]
  },
  {
   "source": [
    "### 3. Tampilkan daftar 10 aktor/aktris yang paling banyak membintangi film. Kolom yang ditampilkan minimal: id aktor, nama depan, nama belakang dan jumlah film yang dibintangi. Kemudian urutkan dari aktor/aktris yang membintangi film terbanyak."
   ],
   "cell_type": "markdown",
   "metadata": {}
  },
  {
   "cell_type": "code",
   "execution_count": 59,
   "metadata": {},
   "outputs": [
    {
     "output_type": "execute_result",
     "data": {
      "text/plain": [
       "   actor_id first_name  last_name  jumlahMovie\n",
       "0       107       GINA  DEGENERES           42\n",
       "1       102     WALTER       TORN           41\n",
       "2       198       MARY     KEITEL           40\n",
       "3       181    MATTHEW     CARREY           39\n",
       "4        23     SANDRA     KILMER           37\n",
       "5        81   SCARLETT      DAMON           36\n",
       "6        37        VAL     BOLGER           35\n",
       "7       158     VIVIEN   BASINGER           35\n",
       "8       106    GROUCHO      DUNST           35\n",
       "9        13        UMA       WOOD           35"
      ],
      "text/html": "<div>\n<style scoped>\n    .dataframe tbody tr th:only-of-type {\n        vertical-align: middle;\n    }\n\n    .dataframe tbody tr th {\n        vertical-align: top;\n    }\n\n    .dataframe thead th {\n        text-align: right;\n    }\n</style>\n<table border=\"1\" class=\"dataframe\">\n  <thead>\n    <tr style=\"text-align: right;\">\n      <th></th>\n      <th>actor_id</th>\n      <th>first_name</th>\n      <th>last_name</th>\n      <th>jumlahMovie</th>\n    </tr>\n  </thead>\n  <tbody>\n    <tr>\n      <th>0</th>\n      <td>107</td>\n      <td>GINA</td>\n      <td>DEGENERES</td>\n      <td>42</td>\n    </tr>\n    <tr>\n      <th>1</th>\n      <td>102</td>\n      <td>WALTER</td>\n      <td>TORN</td>\n      <td>41</td>\n    </tr>\n    <tr>\n      <th>2</th>\n      <td>198</td>\n      <td>MARY</td>\n      <td>KEITEL</td>\n      <td>40</td>\n    </tr>\n    <tr>\n      <th>3</th>\n      <td>181</td>\n      <td>MATTHEW</td>\n      <td>CARREY</td>\n      <td>39</td>\n    </tr>\n    <tr>\n      <th>4</th>\n      <td>23</td>\n      <td>SANDRA</td>\n      <td>KILMER</td>\n      <td>37</td>\n    </tr>\n    <tr>\n      <th>5</th>\n      <td>81</td>\n      <td>SCARLETT</td>\n      <td>DAMON</td>\n      <td>36</td>\n    </tr>\n    <tr>\n      <th>6</th>\n      <td>37</td>\n      <td>VAL</td>\n      <td>BOLGER</td>\n      <td>35</td>\n    </tr>\n    <tr>\n      <th>7</th>\n      <td>158</td>\n      <td>VIVIEN</td>\n      <td>BASINGER</td>\n      <td>35</td>\n    </tr>\n    <tr>\n      <th>8</th>\n      <td>106</td>\n      <td>GROUCHO</td>\n      <td>DUNST</td>\n      <td>35</td>\n    </tr>\n    <tr>\n      <th>9</th>\n      <td>13</td>\n      <td>UMA</td>\n      <td>WOOD</td>\n      <td>35</td>\n    </tr>\n  </tbody>\n</table>\n</div>"
     },
     "metadata": {},
     "execution_count": 59
    }
   ],
   "source": [
    "mycursor = mydb.cursor()\n",
    "mycursor.execute('''\n",
    "select actor.actor_id as actor_id, actor.first_name as first_name, actor.last_name as last_name, count(film_actor.film_id) as jumlahMovie\n",
    "from actor, film, film_actor\n",
    "where actor.actor_id = film_actor.actor_id and film_actor.film_id = film.film_id\n",
    "group by actor_id\n",
    "order by jumlahMovie desc\n",
    "limit 10;\n",
    "''')\n",
    "myresult = mycursor.fetchall()\n",
    "#myresult\n",
    "columns = mycursor.column_names\n",
    "tables = pd.DataFrame(myresult, columns=columns)\n",
    "tables"
   ]
  },
  {
   "cell_type": "code",
   "execution_count": null,
   "metadata": {},
   "outputs": [],
   "source": []
  },
  {
   "source": [
    "### 4.Dari soal sebelumnya diketahui Gina Degeneres merupakan aktris yang paling banyak membintangi film, dengan total 42 judul film. Kategori film apakah yang paling banyak dibintanginya? Untuk mengetahuinya, tampilkan daftar kategori film beserta jumlah film yang pernah dibintangi oleh Gina Degeneres. "
   ],
   "cell_type": "markdown",
   "metadata": {}
  },
  {
   "cell_type": "code",
   "execution_count": 60,
   "metadata": {},
   "outputs": [
    {
     "output_type": "execute_result",
     "data": {
      "text/plain": [
       "   category_id       name         last_update\n",
       "0            1     Action 2006-02-15 04:46:27\n",
       "1            2  Animation 2006-02-15 04:46:27\n",
       "2            3   Children 2006-02-15 04:46:27"
      ],
      "text/html": "<div>\n<style scoped>\n    .dataframe tbody tr th:only-of-type {\n        vertical-align: middle;\n    }\n\n    .dataframe tbody tr th {\n        vertical-align: top;\n    }\n\n    .dataframe thead th {\n        text-align: right;\n    }\n</style>\n<table border=\"1\" class=\"dataframe\">\n  <thead>\n    <tr style=\"text-align: right;\">\n      <th></th>\n      <th>category_id</th>\n      <th>name</th>\n      <th>last_update</th>\n    </tr>\n  </thead>\n  <tbody>\n    <tr>\n      <th>0</th>\n      <td>1</td>\n      <td>Action</td>\n      <td>2006-02-15 04:46:27</td>\n    </tr>\n    <tr>\n      <th>1</th>\n      <td>2</td>\n      <td>Animation</td>\n      <td>2006-02-15 04:46:27</td>\n    </tr>\n    <tr>\n      <th>2</th>\n      <td>3</td>\n      <td>Children</td>\n      <td>2006-02-15 04:46:27</td>\n    </tr>\n  </tbody>\n</table>\n</div>"
     },
     "metadata": {},
     "execution_count": 60
    }
   ],
   "source": [
    "mycursor = mydb.cursor()\n",
    "mycursor.execute('''\n",
    "select * from category limit 3;\n",
    "''')\n",
    "myresult = mycursor.fetchall()\n",
    "#myresult\n",
    "columns = mycursor.column_names\n",
    "tables = pd.DataFrame(myresult, columns=columns)\n",
    "tables"
   ]
  },
  {
   "cell_type": "code",
   "execution_count": 61,
   "metadata": {},
   "outputs": [
    {
     "output_type": "execute_result",
     "data": {
      "text/plain": [
       "   film_id             title  \\\n",
       "0        1  ACADEMY DINOSAUR   \n",
       "1        2    ACE GOLDFINGER   \n",
       "2        3  ADAPTATION HOLES   \n",
       "\n",
       "                                         description  release_year  \\\n",
       "0  A Epic Drama of a Feminist And a Mad Scientist...          2006   \n",
       "1  A Astounding Epistle of a Database Administrat...          2006   \n",
       "2  A Astounding Reflection of a Lumberjack And a ...          2006   \n",
       "\n",
       "   language_id original_language_id  rental_duration rental_rate  length  \\\n",
       "0            1                 None                6        0.99      86   \n",
       "1            1                 None                3        4.99      48   \n",
       "2            1                 None                7        2.99      50   \n",
       "\n",
       "  replacement_cost rating                     special_features  \\\n",
       "0            20.99     PG  {Deleted Scenes, Behind the Scenes}   \n",
       "1            12.99      G           {Deleted Scenes, Trailers}   \n",
       "2            18.99  NC-17           {Deleted Scenes, Trailers}   \n",
       "\n",
       "          last_update  \n",
       "0 2006-02-15 05:03:42  \n",
       "1 2006-02-15 05:03:42  \n",
       "2 2006-02-15 05:03:42  "
      ],
      "text/html": "<div>\n<style scoped>\n    .dataframe tbody tr th:only-of-type {\n        vertical-align: middle;\n    }\n\n    .dataframe tbody tr th {\n        vertical-align: top;\n    }\n\n    .dataframe thead th {\n        text-align: right;\n    }\n</style>\n<table border=\"1\" class=\"dataframe\">\n  <thead>\n    <tr style=\"text-align: right;\">\n      <th></th>\n      <th>film_id</th>\n      <th>title</th>\n      <th>description</th>\n      <th>release_year</th>\n      <th>language_id</th>\n      <th>original_language_id</th>\n      <th>rental_duration</th>\n      <th>rental_rate</th>\n      <th>length</th>\n      <th>replacement_cost</th>\n      <th>rating</th>\n      <th>special_features</th>\n      <th>last_update</th>\n    </tr>\n  </thead>\n  <tbody>\n    <tr>\n      <th>0</th>\n      <td>1</td>\n      <td>ACADEMY DINOSAUR</td>\n      <td>A Epic Drama of a Feminist And a Mad Scientist...</td>\n      <td>2006</td>\n      <td>1</td>\n      <td>None</td>\n      <td>6</td>\n      <td>0.99</td>\n      <td>86</td>\n      <td>20.99</td>\n      <td>PG</td>\n      <td>{Deleted Scenes, Behind the Scenes}</td>\n      <td>2006-02-15 05:03:42</td>\n    </tr>\n    <tr>\n      <th>1</th>\n      <td>2</td>\n      <td>ACE GOLDFINGER</td>\n      <td>A Astounding Epistle of a Database Administrat...</td>\n      <td>2006</td>\n      <td>1</td>\n      <td>None</td>\n      <td>3</td>\n      <td>4.99</td>\n      <td>48</td>\n      <td>12.99</td>\n      <td>G</td>\n      <td>{Deleted Scenes, Trailers}</td>\n      <td>2006-02-15 05:03:42</td>\n    </tr>\n    <tr>\n      <th>2</th>\n      <td>3</td>\n      <td>ADAPTATION HOLES</td>\n      <td>A Astounding Reflection of a Lumberjack And a ...</td>\n      <td>2006</td>\n      <td>1</td>\n      <td>None</td>\n      <td>7</td>\n      <td>2.99</td>\n      <td>50</td>\n      <td>18.99</td>\n      <td>NC-17</td>\n      <td>{Deleted Scenes, Trailers}</td>\n      <td>2006-02-15 05:03:42</td>\n    </tr>\n  </tbody>\n</table>\n</div>"
     },
     "metadata": {},
     "execution_count": 61
    }
   ],
   "source": [
    "mycursor = mydb.cursor()\n",
    "mycursor.execute('''\n",
    "select * from film limit 3;\n",
    "''')\n",
    "myresult = mycursor.fetchall()\n",
    "#myresult\n",
    "columns = mycursor.column_names\n",
    "tables = pd.DataFrame(myresult, columns=columns)\n",
    "tables"
   ]
  },
  {
   "cell_type": "code",
   "execution_count": 62,
   "metadata": {},
   "outputs": [
    {
     "output_type": "execute_result",
     "data": {
      "text/plain": [
       "   actor_id  film_id         last_update\n",
       "0         1        1 2006-02-15 05:05:03\n",
       "1         1       23 2006-02-15 05:05:03\n",
       "2         1       25 2006-02-15 05:05:03"
      ],
      "text/html": "<div>\n<style scoped>\n    .dataframe tbody tr th:only-of-type {\n        vertical-align: middle;\n    }\n\n    .dataframe tbody tr th {\n        vertical-align: top;\n    }\n\n    .dataframe thead th {\n        text-align: right;\n    }\n</style>\n<table border=\"1\" class=\"dataframe\">\n  <thead>\n    <tr style=\"text-align: right;\">\n      <th></th>\n      <th>actor_id</th>\n      <th>film_id</th>\n      <th>last_update</th>\n    </tr>\n  </thead>\n  <tbody>\n    <tr>\n      <th>0</th>\n      <td>1</td>\n      <td>1</td>\n      <td>2006-02-15 05:05:03</td>\n    </tr>\n    <tr>\n      <th>1</th>\n      <td>1</td>\n      <td>23</td>\n      <td>2006-02-15 05:05:03</td>\n    </tr>\n    <tr>\n      <th>2</th>\n      <td>1</td>\n      <td>25</td>\n      <td>2006-02-15 05:05:03</td>\n    </tr>\n  </tbody>\n</table>\n</div>"
     },
     "metadata": {},
     "execution_count": 62
    }
   ],
   "source": [
    "mycursor = mydb.cursor()\n",
    "mycursor.execute('''\n",
    "select * from film_actor limit 3;\n",
    "''')\n",
    "myresult = mycursor.fetchall()\n",
    "#myresult\n",
    "columns = mycursor.column_names\n",
    "tables = pd.DataFrame(myresult, columns=columns)\n",
    "tables"
   ]
  },
  {
   "cell_type": "code",
   "execution_count": 63,
   "metadata": {},
   "outputs": [
    {
     "output_type": "execute_result",
     "data": {
      "text/plain": [
       "   film_id  category_id         last_update\n",
       "0        1            6 2006-02-15 05:07:09\n",
       "1        2           11 2006-02-15 05:07:09\n",
       "2        3            6 2006-02-15 05:07:09"
      ],
      "text/html": "<div>\n<style scoped>\n    .dataframe tbody tr th:only-of-type {\n        vertical-align: middle;\n    }\n\n    .dataframe tbody tr th {\n        vertical-align: top;\n    }\n\n    .dataframe thead th {\n        text-align: right;\n    }\n</style>\n<table border=\"1\" class=\"dataframe\">\n  <thead>\n    <tr style=\"text-align: right;\">\n      <th></th>\n      <th>film_id</th>\n      <th>category_id</th>\n      <th>last_update</th>\n    </tr>\n  </thead>\n  <tbody>\n    <tr>\n      <th>0</th>\n      <td>1</td>\n      <td>6</td>\n      <td>2006-02-15 05:07:09</td>\n    </tr>\n    <tr>\n      <th>1</th>\n      <td>2</td>\n      <td>11</td>\n      <td>2006-02-15 05:07:09</td>\n    </tr>\n    <tr>\n      <th>2</th>\n      <td>3</td>\n      <td>6</td>\n      <td>2006-02-15 05:07:09</td>\n    </tr>\n  </tbody>\n</table>\n</div>"
     },
     "metadata": {},
     "execution_count": 63
    }
   ],
   "source": [
    "mycursor = mydb.cursor()\n",
    "mycursor.execute('''\n",
    "select * from film_category limit 3;\n",
    "''')\n",
    "myresult = mycursor.fetchall()\n",
    "#myresult\n",
    "columns = mycursor.column_names\n",
    "tables = pd.DataFrame(myresult, columns=columns)\n",
    "tables"
   ]
  },
  {
   "cell_type": "code",
   "execution_count": 65,
   "metadata": {},
   "outputs": [
    {
     "output_type": "execute_result",
     "data": {
      "text/plain": [
       "       category  count(film.title)\n",
       "0   Documentary             600000\n",
       "1       Foreign             400000\n",
       "2         Music             800000\n",
       "3           New             200000\n",
       "4        Sci-Fi            1400000\n",
       "5        Action             600000\n",
       "6         Drama             400000\n",
       "7     Animation             800000\n",
       "8        Horror             200000\n",
       "9        Family             800000\n",
       "10       Comedy             600000\n",
       "11     Children             400000\n",
       "12     Classics             400000\n",
       "13       Sports             400000\n",
       "14        Games             200000\n",
       "15       Travel             200000"
      ],
      "text/html": "<div>\n<style scoped>\n    .dataframe tbody tr th:only-of-type {\n        vertical-align: middle;\n    }\n\n    .dataframe tbody tr th {\n        vertical-align: top;\n    }\n\n    .dataframe thead th {\n        text-align: right;\n    }\n</style>\n<table border=\"1\" class=\"dataframe\">\n  <thead>\n    <tr style=\"text-align: right;\">\n      <th></th>\n      <th>category</th>\n      <th>count(film.title)</th>\n    </tr>\n  </thead>\n  <tbody>\n    <tr>\n      <th>0</th>\n      <td>Documentary</td>\n      <td>600000</td>\n    </tr>\n    <tr>\n      <th>1</th>\n      <td>Foreign</td>\n      <td>400000</td>\n    </tr>\n    <tr>\n      <th>2</th>\n      <td>Music</td>\n      <td>800000</td>\n    </tr>\n    <tr>\n      <th>3</th>\n      <td>New</td>\n      <td>200000</td>\n    </tr>\n    <tr>\n      <th>4</th>\n      <td>Sci-Fi</td>\n      <td>1400000</td>\n    </tr>\n    <tr>\n      <th>5</th>\n      <td>Action</td>\n      <td>600000</td>\n    </tr>\n    <tr>\n      <th>6</th>\n      <td>Drama</td>\n      <td>400000</td>\n    </tr>\n    <tr>\n      <th>7</th>\n      <td>Animation</td>\n      <td>800000</td>\n    </tr>\n    <tr>\n      <th>8</th>\n      <td>Horror</td>\n      <td>200000</td>\n    </tr>\n    <tr>\n      <th>9</th>\n      <td>Family</td>\n      <td>800000</td>\n    </tr>\n    <tr>\n      <th>10</th>\n      <td>Comedy</td>\n      <td>600000</td>\n    </tr>\n    <tr>\n      <th>11</th>\n      <td>Children</td>\n      <td>400000</td>\n    </tr>\n    <tr>\n      <th>12</th>\n      <td>Classics</td>\n      <td>400000</td>\n    </tr>\n    <tr>\n      <th>13</th>\n      <td>Sports</td>\n      <td>400000</td>\n    </tr>\n    <tr>\n      <th>14</th>\n      <td>Games</td>\n      <td>200000</td>\n    </tr>\n    <tr>\n      <th>15</th>\n      <td>Travel</td>\n      <td>200000</td>\n    </tr>\n  </tbody>\n</table>\n</div>"
     },
     "metadata": {},
     "execution_count": 65
    }
   ],
   "source": [
    "mycursor = mydb.cursor()\n",
    "mycursor.execute('''\n",
    "select category.name as category, count(film.title) from category, film, actor, film_category, film_actor\n",
    "where film_actor.actor_id = 107 and film_category.category_id = category.category_id \n",
    "group by category;\n",
    "''')\n",
    "myresult = mycursor.fetchall()\n",
    "#myresult\n",
    "columns = mycursor.column_names\n",
    "tables = pd.DataFrame(myresult, columns=columns)\n",
    "tables"
   ]
  },
  {
   "source": [
    "### 5. Dari soal sebelumnya diketahui Gina Degeneres paling banyak membintangi film bergenre sciencefiction, dengan total 7 judul film. Tampilkan daftar judul film sci-fi yang pernah dibintangi oleh Gina Degeneres. Kolom yang diwajibkan ada yaitu judul film dan kategorinya."
   ],
   "cell_type": "markdown",
   "metadata": {}
  },
  {
   "cell_type": "code",
   "execution_count": null,
   "metadata": {},
   "outputs": [],
   "source": []
  }
 ]
}